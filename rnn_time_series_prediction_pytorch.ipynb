{
  "nbformat": 4,
  "nbformat_minor": 0,
  "metadata": {
    "colab": {
      "name": "[RNN] Time-series Prediction using pytorch.ipynb",
      "version": "0.3.2",
      "provenance": [],
      "collapsed_sections": [],
      "include_colab_link": true
    },
    "kernelspec": {
      "display_name": "Python [conda root]",
      "language": "python",
      "name": "conda-root-py"
    }
  },
  "cells": [
    {
      "cell_type": "markdown",
      "metadata": {
        "id": "view-in-github",
        "colab_type": "text"
      },
      "source": [
        "<a href=\"https://colab.research.google.com/github/tajain07/neural-network-playground/blob/master/%5BRNN%5D_Time_series_Prediction_using_pytorch.ipynb\" target=\"_parent\"><img src=\"https://colab.research.google.com/assets/colab-badge.svg\" alt=\"Open In Colab\"/></a>"
      ]
    },
    {
      "metadata": {
        "id": "BCx_OYesYqDV",
        "colab_type": "text"
      },
      "cell_type": "markdown",
      "source": [
        "[Source - 1](https://www.youtube.com/watch?time_continue=2&v=xV5jHLFfJbQ)\n",
        "[Source - 2](https://www.youtube.com/watch?time_continue=4&v=sx7T_KP5v9I)"
      ]
    },
    {
      "metadata": {
        "id": "26rRTB1XvQ4e",
        "colab_type": "text"
      },
      "cell_type": "markdown",
      "source": [
        "# Simple RNN\n",
        "\n",
        "In ths notebook, we're going to train a simple RNN to do **time-series prediction**. Given some set of input data, it should be able to generate a prediction for the next time step!\n",
        "\n",
        "> * First, we'll create our data\n",
        "* Then, define an RNN in PyTorch\n",
        "* Finally, we'll train our network and see how it performs"
      ]
    },
    {
      "metadata": {
        "id": "ThPv7OXZvQ4f",
        "colab_type": "text"
      },
      "cell_type": "markdown",
      "source": [
        "### Import resources and create data "
      ]
    },
    {
      "metadata": {
        "id": "KVmaWzwLvf_P",
        "colab_type": "code",
        "colab": {}
      },
      "cell_type": "code",
      "source": [
        "'''\n",
        "# http://pytorch.org/\n",
        "from os.path import exists\n",
        "from wheel.pep425tags import get_abbr_impl, get_impl_ver, get_abi_tag\n",
        "platform = '{}{}-{}'.format(get_abbr_impl(), get_impl_ver(), get_abi_tag())\n",
        "cuda_output = !ldconfig -p|grep cudart.so|sed -e 's/.*\\.\\([0-9]*\\)\\.\\([0-9]*\\)$/cu\\1\\2/'\n",
        "accelerator = cuda_output[0] if exists('/dev/nvidia0') else 'cpu'\n",
        "\n",
        "!pip install -q http://download.pytorch.org/whl/{accelerator}/torch-0.4.1-{platform}-linux_x86_64.whl torchvision\n",
        "import torch\n",
        "'''"
      ],
      "execution_count": 0,
      "outputs": []
    },
    {
      "metadata": {
        "id": "OCEysS01vQ4f",
        "colab_type": "code",
        "colab": {}
      },
      "cell_type": "code",
      "source": [
        "import torch\n",
        "from torch import nn\n",
        "import numpy as np\n",
        "import matplotlib.pyplot as plt\n",
        "%matplotlib inline\n",
        "import pylab as pl\n"
      ],
      "execution_count": 0,
      "outputs": []
    },
    {
      "metadata": {
        "id": "hn-8BJWcvQ4j",
        "colab_type": "code",
        "outputId": "9b60c8a1-6932-46fd-8829-cf4dad81eb34",
        "colab": {
          "base_uri": "https://localhost:8080/",
          "height": 320
        }
      },
      "cell_type": "code",
      "source": [
        "plt.figure(figsize=(8,5))\n",
        "\n",
        "# how many time steps/data pts are in one batch of data\n",
        "seq_length = 20\n",
        "\n",
        "# generate evenly spaced data pts\n",
        "time_steps = np.linspace(2, 10, seq_length + 1)\n",
        "#print(time_steps)\n",
        "\n",
        "data = np.sin(time_steps)\n",
        "\n",
        "data.resize((seq_length + 1, 1)) # size becomes (seq_length+1, 1), adds an input_size dimension\n",
        "\n",
        "x = data[:-1] # all but the last piece of data\n",
        "y = data[1:] # all but the first\n",
        "\n",
        "pl.scatter(time_steps[:-1], x, s=90, label=\"Actual\")\n",
        "pl.scatter(time_steps[1:], y+0.1, label=\"Predicted + 0.1 \") # added some noise to distinguish \n",
        "pl.legend()\n",
        "pl.show()\n"
      ],
      "execution_count": 18,
      "outputs": [
        {
          "output_type": "display_data",
          "data": {
            "image/png": "[encoded data removed]",
            "text/plain": [
              "<Figure size 576x360 with 1 Axes>"
            ]
          },
          "metadata": {
            "tags": []
          }
        }
      ]
    },
    {
      "metadata": {
        "id": "HKPXam3gvQ4m",
        "colab_type": "text"
      },
      "cell_type": "markdown",
      "source": [
        "---\n",
        "## Define the RNN\n",
        "\n",
        "Next, we define an RNN in PyTorch. We'll use `nn.RNN` to create an RNN layer, then we'll add a last, fully-connected layer to get the output size that we want. An RNN takes in a number of parameters:\n",
        "* **input_size** - the size of the input\n",
        "* **hidden_dim** - the number of features in the RNN output and in the hidden state\n",
        "* **n_layers** - the number of layers that make up the RNN, typically 1-3; greater than 1 means that you'll create a stacked RNN\n",
        "* **batch_first** - whether or not the input/output of the RNN will have the batch_size as the first dimension (batch_size, seq_length, hidden_dim)\n",
        "\n",
        "Take a look at the [RNN documentation](https://pytorch.org/docs/stable/nn.html#rnn) to read more about recurrent layers."
      ]
    },
    {
      "metadata": {
        "id": "tN6oUxzgvQ4n",
        "colab_type": "code",
        "colab": {}
      },
      "cell_type": "code",
      "source": [
        "class RNN(nn.Module):\n",
        "    def __init__(self, input_size, output_size, hidden_dim, n_layers):\n",
        "        super(RNN, self).__init__()\n",
        "        \n",
        "        self.hidden_dim=hidden_dim\n",
        "\n",
        "        # define an RNN with specified parameters\n",
        "        # batch_first means that the first dim of the input and output will be the batch_size\n",
        "        self.rnn = nn.RNN(input_size, hidden_dim, n_layers, batch_first=True)\n",
        "        \n",
        "        # last,\"\" fully-connected layer\n",
        "        self.fc = nn.Linear(hidden_dim, output_size)\n",
        "\n",
        "    def forward(self, x, hidden):\n",
        "    \n",
        "        # x (batch_size, seq_length, input_size)\n",
        "        # hidden (n_layers, batch_size, hidden_dim)\n",
        "        # r_out (batch_size, time_step, hidden_size)\n",
        "        batch_size = x.size(0)\n",
        "        \n",
        "        # get RNN outputs\n",
        "        r_out, hidden = self.rnn(x, hidden)\n",
        "        \n",
        "        # shape output to be (batch_size*seq_length, hidden_dim)\n",
        "        r_out = r_out.view(-1, self.hidden_dim)\n",
        "        print(\"r_out.size() \",r_out.size())\n",
        "        \n",
        "        # get final output \n",
        "        output = self.fc(r_out)\n",
        "        \n",
        "        return output, hidden\n"
      ],
      "execution_count": 0,
      "outputs": []
    },
    {
      "metadata": {
        "id": "KA6bJ4klvQ4q",
        "colab_type": "text"
      },
      "cell_type": "markdown",
      "source": [
        "### Check the input and output dimensions\n",
        "\n",
        "As a check that your model is working as expected, test out how it responds to input data."
      ]
    },
    {
      "metadata": {
        "id": "_l4n_AY_vQ4r",
        "colab_type": "code",
        "outputId": "04f912d9-8e13-4830-c4bb-54ebe2478b4c",
        "colab": {
          "base_uri": "https://localhost:8080/",
          "height": 85
        }
      },
      "cell_type": "code",
      "source": [
        "# test that dimensions are as expected\n",
        "test_rnn = RNN(input_size=1, output_size=1, hidden_dim=10, n_layers=2)\n",
        "\n",
        "# generate evenly spaced, test data pts\n",
        "time_steps = np.linspace(0, np.pi, seq_length)\n",
        "data = np.sin(time_steps)\n",
        "data.resize((seq_length, 1))\n",
        "\n",
        "test_input = torch.Tensor(data).unsqueeze(0) # give it a batch_size of 1 as first dimension\n",
        "print('Input size: ', test_input.size())\n",
        "\n",
        "# test out rnn sizes\n",
        "test_out, test_h = test_rnn(test_input, None)\n",
        "print('Output size: ', test_out.size())\n",
        "print('Hidden state size: ', test_h.size)\n",
        "\n",
        "#print(test_out)"
      ],
      "execution_count": 9,
      "outputs": [
        {
          "output_type": "stream",
          "text": [
            "('Input size: ', torch.Size([1, 20, 1]))\n",
            "('r_out.size() ', torch.Size([20, 10]))\n",
            "('Output size: ', torch.Size([20, 1]))\n",
            "('Hidden state size: ', <built-in method size of Tensor object at 0x7f485a0419b0>)\n"
          ],
          "name": "stdout"
        }
      ]
    },
    {
      "metadata": {
        "id": "wnpQ0w-IvQ4t",
        "colab_type": "text"
      },
      "cell_type": "markdown",
      "source": [
        "---\n",
        "## Training the RNN\n",
        "\n",
        "Next, we'll instantiate an RNN with some specified hyperparameters. Then train it over a series of steps, and see how it performs."
      ]
    },
    {
      "metadata": {
        "id": "KiTTSaTivQ4u",
        "colab_type": "code",
        "outputId": "cefaaba9-4e18-42ee-9da5-b60674053d05",
        "colab": {
          "base_uri": "https://localhost:8080/",
          "height": 85
        }
      },
      "cell_type": "code",
      "source": [
        "# decide on hyperparameters\n",
        "input_size=1 \n",
        "output_size=1\n",
        "hidden_dim=32\n",
        "n_layers=1\n",
        "\n",
        "# instantiate an RNN\n",
        "rnn = RNN(input_size, output_size, hidden_dim, n_layers)\n",
        "print(rnn)"
      ],
      "execution_count": 10,
      "outputs": [
        {
          "output_type": "stream",
          "text": [
            "RNN(\n",
            "  (rnn): RNN(1, 32, batch_first=True)\n",
            "  (fc): Linear(in_features=32, out_features=1, bias=True)\n",
            ")\n"
          ],
          "name": "stdout"
        }
      ]
    },
    {
      "metadata": {
        "id": "YOYCKO3GvQ4x",
        "colab_type": "text"
      },
      "cell_type": "markdown",
      "source": [
        "### Loss and Optimization\n",
        "\n",
        "This is a regression problem: can we train an RNN to accurately predict the next data point, given a current data point?\n",
        "\n",
        ">* The data points are coordinate values, so to compare a predicted and ground_truth point, we'll use a regression loss: the mean squared error.\n",
        "* It's typical to use an Adam optimizer for recurrent models."
      ]
    },
    {
      "metadata": {
        "id": "AJPLmf2vvQ4y",
        "colab_type": "code",
        "colab": {}
      },
      "cell_type": "code",
      "source": [
        "# MSE loss and Adam optimizer with a learning rate of 0.01\n",
        "criterion = nn.MSELoss()\n",
        "optimizer = torch.optim.Adam(rnn.parameters(), lr=0.01) "
      ],
      "execution_count": 0,
      "outputs": []
    },
    {
      "metadata": {
        "id": "FZeYvTYuvQ41",
        "colab_type": "text"
      },
      "cell_type": "markdown",
      "source": [
        "### Defining the training function\n",
        "\n",
        "This function takes in an rnn, a number of steps to train for, and returns a trained rnn. This function is also responsible for displaying the loss and the predictions, every so often.\n",
        "\n",
        "#### Hidden State\n",
        "\n",
        "Pay close attention to the hidden state, here:\n",
        "* Before looping over a batch of training data, the hidden state is initialized\n",
        "* After a new hidden state is generated by the rnn, we get the latest hidden state, and use that as input to the rnn for the following steps"
      ]
    },
    {
      "metadata": {
        "id": "OdwJ4uSGvQ41",
        "colab_type": "code",
        "colab": {}
      },
      "cell_type": "code",
      "source": [
        "# train the RNN\n",
        "def train(rnn, n_steps, print_every):\n",
        "    \n",
        "    # initialize the hidden state\n",
        "    hidden = None      \n",
        "    \n",
        "    for batch_i, step in enumerate(range(n_steps)):\n",
        "        \n",
        "        # defining the training data \n",
        "        time_steps = np.linspace(step * np.pi, (step+1)*np.pi, seq_length + 1)\n",
        "        data = np.sin(time_steps)\n",
        "        data.resize((seq_length + 1, 1)) # input_size=1\n",
        "\n",
        "        x = data[:-1]\n",
        "        y = data[1:]\n",
        "        \n",
        "        # convert data into Tensors\n",
        "        x_tensor = torch.Tensor(x).unsqueeze(0) # unsqueeze gives a 1, batch_size dimension\n",
        "        y_tensor = torch.Tensor(y)\n",
        "\n",
        "        # outputs from the rnn\n",
        "        prediction, hidden = rnn(x_tensor, hidden)\n",
        "\n",
        "        ## Representing Memory ##\n",
        "        # make a new variable for hidden and detach the hidden state from its history\n",
        "        # this way, we don't backpropagate through the entire history\n",
        "        hidden = hidden.data\n",
        "\n",
        "        # calculate the loss\n",
        "        loss = criterion(prediction, y_tensor)\n",
        "        # zero gradients\n",
        "        optimizer.zero_grad()\n",
        "        # perform backprop and update weights\n",
        "        loss.backward()\n",
        "        optimizer.step()\n",
        "\n",
        "        # display loss and predictions\n",
        "        if batch_i%print_every == 0:        \n",
        "            print('Loss: ', loss.item())\n",
        "            #plt.plot(time_steps[1:], x, 'r.') # input\n",
        "            #plt.plot(time_steps[1:], prediction.data.numpy().flatten(), 'b.') # predictions\n",
        "            #plt.show()\n",
        "            pl.scatter(time_steps[:-1], x, s=90, label=\"Actual\")\n",
        "            pl.scatter(time_steps[1:], prediction.data.numpy().flatten(), label=\"Predicted\")\n",
        "            pl.legend()\n",
        "            pl.show()\n",
        "\n",
        "    \n",
        "    return rnn\n"
      ],
      "execution_count": 0,
      "outputs": []
    },
    {
      "metadata": {
        "id": "G5VfMxCGvQ4-",
        "colab_type": "code",
        "outputId": "774e80a8-4575-4225-80aa-92b6eb942c6c",
        "colab": {
          "base_uri": "https://localhost:8080/",
          "height": 6442
        }
      },
      "cell_type": "code",
      "source": [
        "# train the rnn and monitor results\n",
        "n_steps = 75\n",
        "print_every = 15\n",
        "\n",
        "trained_rnn = train(rnn, n_steps, print_every)"
      ],
      "execution_count": 17,
      "outputs": [
        {
          "output_type": "stream",
          "text": [
            "('batch_i ', 0)\n",
            "('step ', 0)\n",
            "('data.size ', 21)\n",
            "('r_out.size() ', torch.Size([20, 32]))\n",
            "('Loss: ', 0.003140921937301755)\n"
          ],
          "name": "stdout"
        },
        {
          "output_type": "display_data",
          "data": {
            "image/png": "[encoded data removed]",
            "text/plain": [
              "<Figure size 432x288 with 1 Axes>"
            ]
          },
          "metadata": {
            "tags": []
          }
        },
        {
          "output_type": "stream",
          "text": [
            "('batch_i ', 1)\n",
            "('step ', 1)\n",
            "('data.size ', 21)\n",
            "('r_out.size() ', torch.Size([20, 32]))\n",
            "('batch_i ', 2)\n",
            "('step ', 2)\n",
            "('data.size ', 21)\n",
            "('r_out.size() ', torch.Size([20, 32]))\n",
            "('batch_i ', 3)\n",
            "('step ', 3)\n",
            "('data.size ', 21)\n",
            "('r_out.size() ', torch.Size([20, 32]))\n",
            "('batch_i ', 4)\n",
            "('step ', 4)\n",
            "('data.size ', 21)\n",
            "('r_out.size() ', torch.Size([20, 32]))\n",
            "('batch_i ', 5)\n",
            "('step ', 5)\n",
            "('data.size ', 21)\n",
            "('r_out.size() ', torch.Size([20, 32]))\n",
            "('batch_i ', 6)\n",
            "('step ', 6)\n",
            "('data.size ', 21)\n",
            "('r_out.size() ', torch.Size([20, 32]))\n",
            "('batch_i ', 7)\n",
            "('step ', 7)\n",
            "('data.size ', 21)\n",
            "('r_out.size() ', torch.Size([20, 32]))\n",
            "('batch_i ', 8)\n",
            "('step ', 8)\n",
            "('data.size ', 21)\n",
            "('r_out.size() ', torch.Size([20, 32]))\n",
            "('batch_i ', 9)\n",
            "('step ', 9)\n",
            "('data.size ', 21)\n",
            "('r_out.size() ', torch.Size([20, 32]))\n",
            "('batch_i ', 10)\n",
            "('step ', 10)\n",
            "('data.size ', 21)\n",
            "('r_out.size() ', torch.Size([20, 32]))\n",
            "('batch_i ', 11)\n",
            "('step ', 11)\n",
            "('data.size ', 21)\n",
            "('r_out.size() ', torch.Size([20, 32]))\n",
            "('batch_i ', 12)\n",
            "('step ', 12)\n",
            "('data.size ', 21)\n",
            "('r_out.size() ', torch.Size([20, 32]))\n",
            "('batch_i ', 13)\n",
            "('step ', 13)\n",
            "('data.size ', 21)\n",
            "('r_out.size() ', torch.Size([20, 32]))\n",
            "('batch_i ', 14)\n",
            "('step ', 14)\n",
            "('data.size ', 21)\n",
            "('r_out.size() ', torch.Size([20, 32]))\n",
            "('batch_i ', 15)\n",
            "('step ', 15)\n",
            "('data.size ', 21)\n",
            "('r_out.size() ', torch.Size([20, 32]))\n",
            "('Loss: ', 4.993831680621952e-05)\n"
          ],
          "name": "stdout"
        },
        {
          "output_type": "display_data",
          "data": {
            "image/png": "[encoded data removed]",
            "text/plain": [
              "<Figure size 432x288 with 1 Axes>"
            ]
          },
          "metadata": {
            "tags": []
          }
        },
        {
          "output_type": "stream",
          "text": [
            "('batch_i ', 16)\n",
            "('step ', 16)\n",
            "('data.size ', 21)\n",
            "('r_out.size() ', torch.Size([20, 32]))\n",
            "('batch_i ', 17)\n",
            "('step ', 17)\n",
            "('data.size ', 21)\n",
            "('r_out.size() ', torch.Size([20, 32]))\n",
            "('batch_i ', 18)\n",
            "('step ', 18)\n",
            "('data.size ', 21)\n",
            "('r_out.size() ', torch.Size([20, 32]))\n",
            "('batch_i ', 19)\n",
            "('step ', 19)\n",
            "('data.size ', 21)\n",
            "('r_out.size() ', torch.Size([20, 32]))\n",
            "('batch_i ', 20)\n",
            "('step ', 20)\n",
            "('data.size ', 21)\n",
            "('r_out.size() ', torch.Size([20, 32]))\n",
            "('batch_i ', 21)\n",
            "('step ', 21)\n",
            "('data.size ', 21)\n",
            "('r_out.size() ', torch.Size([20, 32]))\n",
            "('batch_i ', 22)\n",
            "('step ', 22)\n",
            "('data.size ', 21)\n",
            "('r_out.size() ', torch.Size([20, 32]))\n",
            "('batch_i ', 23)\n",
            "('step ', 23)\n",
            "('data.size ', 21)\n",
            "('r_out.size() ', torch.Size([20, 32]))\n",
            "('batch_i ', 24)\n",
            "('step ', 24)\n",
            "('data.size ', 21)\n",
            "('r_out.size() ', torch.Size([20, 32]))\n",
            "('batch_i ', 25)\n",
            "('step ', 25)\n",
            "('data.size ', 21)\n",
            "('r_out.size() ', torch.Size([20, 32]))\n",
            "('batch_i ', 26)\n",
            "('step ', 26)\n",
            "('data.size ', 21)\n",
            "('r_out.size() ', torch.Size([20, 32]))\n",
            "('batch_i ', 27)\n",
            "('step ', 27)\n",
            "('data.size ', 21)\n",
            "('r_out.size() ', torch.Size([20, 32]))\n",
            "('batch_i ', 28)\n",
            "('step ', 28)\n",
            "('data.size ', 21)\n",
            "('r_out.size() ', torch.Size([20, 32]))\n",
            "('batch_i ', 29)\n",
            "('step ', 29)\n",
            "('data.size ', 21)\n",
            "('r_out.size() ', torch.Size([20, 32]))\n",
            "('batch_i ', 30)\n",
            "('step ', 30)\n",
            "('data.size ', 21)\n",
            "('r_out.size() ', torch.Size([20, 32]))\n",
            "('Loss: ', 3.5605688026407734e-05)\n"
          ],
          "name": "stdout"
        },
        {
          "output_type": "display_data",
          "data": {
            "image/png": "[encoded data removed]",
            "text/plain": [
              "<Figure size 432x288 with 1 Axes>"
            ]
          },
          "metadata": {
            "tags": []
          }
        },
        {
          "output_type": "stream",
          "text": [
            "('batch_i ', 31)\n",
            "('step ', 31)\n",
            "('data.size ', 21)\n",
            "('r_out.size() ', torch.Size([20, 32]))\n",
            "('batch_i ', 32)\n",
            "('step ', 32)\n",
            "('data.size ', 21)\n",
            "('r_out.size() ', torch.Size([20, 32]))\n",
            "('batch_i ', 33)\n",
            "('step ', 33)\n",
            "('data.size ', 21)\n",
            "('r_out.size() ', torch.Size([20, 32]))\n",
            "('batch_i ', 34)\n",
            "('step ', 34)\n",
            "('data.size ', 21)\n",
            "('r_out.size() ', torch.Size([20, 32]))\n",
            "('batch_i ', 35)\n",
            "('step ', 35)\n",
            "('data.size ', 21)\n",
            "('r_out.size() ', torch.Size([20, 32]))\n",
            "('batch_i ', 36)\n",
            "('step ', 36)\n",
            "('data.size ', 21)\n",
            "('r_out.size() ', torch.Size([20, 32]))\n",
            "('batch_i ', 37)\n",
            "('step ', 37)\n",
            "('data.size ', 21)\n",
            "('r_out.size() ', torch.Size([20, 32]))\n",
            "('batch_i ', 38)\n",
            "('step ', 38)\n",
            "('data.size ', 21)\n",
            "('r_out.size() ', torch.Size([20, 32]))\n",
            "('batch_i ', 39)\n",
            "('step ', 39)\n",
            "('data.size ', 21)\n",
            "('r_out.size() ', torch.Size([20, 32]))\n",
            "('batch_i ', 40)\n",
            "('step ', 40)\n",
            "('data.size ', 21)\n",
            "('r_out.size() ', torch.Size([20, 32]))\n",
            "('batch_i ', 41)\n",
            "('step ', 41)\n",
            "('data.size ', 21)\n",
            "('r_out.size() ', torch.Size([20, 32]))\n",
            "('batch_i ', 42)\n",
            "('step ', 42)\n",
            "('data.size ', 21)\n",
            "('r_out.size() ', torch.Size([20, 32]))\n",
            "('batch_i ', 43)\n",
            "('step ', 43)\n",
            "('data.size ', 21)\n",
            "('r_out.size() ', torch.Size([20, 32]))\n",
            "('batch_i ', 44)\n",
            "('step ', 44)\n",
            "('data.size ', 21)\n",
            "('r_out.size() ', torch.Size([20, 32]))\n",
            "('batch_i ', 45)\n",
            "('step ', 45)\n",
            "('data.size ', 21)\n",
            "('r_out.size() ', torch.Size([20, 32]))\n",
            "('Loss: ', 1.653660729061812e-05)\n"
          ],
          "name": "stdout"
        },
        {
          "output_type": "display_data",
          "data": {
            "image/png": "[encoded data removed]",
            "text/plain": [
              "<Figure size 432x288 with 1 Axes>"
            ]
          },
          "metadata": {
            "tags": []
          }
        },
        {
          "output_type": "stream",
          "text": [
            "('batch_i ', 46)\n",
            "('step ', 46)\n",
            "('data.size ', 21)\n",
            "('r_out.size() ', torch.Size([20, 32]))\n",
            "('batch_i ', 47)\n",
            "('step ', 47)\n",
            "('data.size ', 21)\n",
            "('r_out.size() ', torch.Size([20, 32]))\n",
            "('batch_i ', 48)\n",
            "('step ', 48)\n",
            "('data.size ', 21)\n",
            "('r_out.size() ', torch.Size([20, 32]))\n",
            "('batch_i ', 49)\n",
            "('step ', 49)\n",
            "('data.size ', 21)\n",
            "('r_out.size() ', torch.Size([20, 32]))\n",
            "('batch_i ', 50)\n",
            "('step ', 50)\n",
            "('data.size ', 21)\n",
            "('r_out.size() ', torch.Size([20, 32]))\n",
            "('batch_i ', 51)\n",
            "('step ', 51)\n",
            "('data.size ', 21)\n",
            "('r_out.size() ', torch.Size([20, 32]))\n",
            "('batch_i ', 52)\n",
            "('step ', 52)\n",
            "('data.size ', 21)\n",
            "('r_out.size() ', torch.Size([20, 32]))\n",
            "('batch_i ', 53)\n",
            "('step ', 53)\n",
            "('data.size ', 21)\n",
            "('r_out.size() ', torch.Size([20, 32]))\n",
            "('batch_i ', 54)\n",
            "('step ', 54)\n",
            "('data.size ', 21)\n",
            "('r_out.size() ', torch.Size([20, 32]))\n",
            "('batch_i ', 55)\n",
            "('step ', 55)\n",
            "('data.size ', 21)\n",
            "('r_out.size() ', torch.Size([20, 32]))\n",
            "('batch_i ', 56)\n",
            "('step ', 56)\n",
            "('data.size ', 21)\n",
            "('r_out.size() ', torch.Size([20, 32]))\n",
            "('batch_i ', 57)\n",
            "('step ', 57)\n",
            "('data.size ', 21)\n",
            "('r_out.size() ', torch.Size([20, 32]))\n",
            "('batch_i ', 58)\n",
            "('step ', 58)\n",
            "('data.size ', 21)\n",
            "('r_out.size() ', torch.Size([20, 32]))\n",
            "('batch_i ', 59)\n",
            "('step ', 59)\n",
            "('data.size ', 21)\n",
            "('r_out.size() ', torch.Size([20, 32]))\n",
            "('batch_i ', 60)\n",
            "('step ', 60)\n",
            "('data.size ', 21)\n",
            "('r_out.size() ', torch.Size([20, 32]))\n",
            "('Loss: ', 1.0736779586295597e-05)\n"
          ],
          "name": "stdout"
        },
        {
          "output_type": "display_data",
          "data": {
            "image/png": "[encoded data removed]",
            "text/plain": [
              "<Figure size 432x288 with 1 Axes>"
            ]
          },
          "metadata": {
            "tags": []
          }
        },
        {
          "output_type": "stream",
          "text": [
            "('batch_i ', 61)\n",
            "('step ', 61)\n",
            "('data.size ', 21)\n",
            "('r_out.size() ', torch.Size([20, 32]))\n",
            "('batch_i ', 62)\n",
            "('step ', 62)\n",
            "('data.size ', 21)\n",
            "('r_out.size() ', torch.Size([20, 32]))\n",
            "('batch_i ', 63)\n",
            "('step ', 63)\n",
            "('data.size ', 21)\n",
            "('r_out.size() ', torch.Size([20, 32]))\n",
            "('batch_i ', 64)\n",
            "('step ', 64)\n",
            "('data.size ', 21)\n",
            "('r_out.size() ', torch.Size([20, 32]))\n",
            "('batch_i ', 65)\n",
            "('step ', 65)\n",
            "('data.size ', 21)\n",
            "('r_out.size() ', torch.Size([20, 32]))\n",
            "('batch_i ', 66)\n",
            "('step ', 66)\n",
            "('data.size ', 21)\n",
            "('r_out.size() ', torch.Size([20, 32]))\n",
            "('batch_i ', 67)\n",
            "('step ', 67)\n",
            "('data.size ', 21)\n",
            "('r_out.size() ', torch.Size([20, 32]))\n",
            "('batch_i ', 68)\n",
            "('step ', 68)\n",
            "('data.size ', 21)\n",
            "('r_out.size() ', torch.Size([20, 32]))\n",
            "('batch_i ', 69)\n",
            "('step ', 69)\n",
            "('data.size ', 21)\n",
            "('r_out.size() ', torch.Size([20, 32]))\n",
            "('batch_i ', 70)\n",
            "('step ', 70)\n",
            "('data.size ', 21)\n",
            "('r_out.size() ', torch.Size([20, 32]))\n",
            "('batch_i ', 71)\n",
            "('step ', 71)\n",
            "('data.size ', 21)\n",
            "('r_out.size() ', torch.Size([20, 32]))\n",
            "('batch_i ', 72)\n",
            "('step ', 72)\n",
            "('data.size ', 21)\n",
            "('r_out.size() ', torch.Size([20, 32]))\n",
            "('batch_i ', 73)\n",
            "('step ', 73)\n",
            "('data.size ', 21)\n",
            "('r_out.size() ', torch.Size([20, 32]))\n",
            "('batch_i ', 74)\n",
            "('step ', 74)\n",
            "('data.size ', 21)\n",
            "('r_out.size() ', torch.Size([20, 32]))\n"
          ],
          "name": "stdout"
        }
      ]
    },
    {
      "metadata": {
        "id": "CWWwYig0vQ5C",
        "colab_type": "text"
      },
      "cell_type": "markdown",
      "source": [
        "### Time-Series Prediction\n",
        "\n",
        "Time-series prediction can be applied to many tasks. Think about weather forecasting or predicting the ebb and flow of stock market prices. You can even try to generate predictions much further in the future than just one time step!"
      ]
    },
    {
      "metadata": {
        "id": "GtMZdpSsvQ5D",
        "colab_type": "code",
        "colab": {}
      },
      "cell_type": "code",
      "source": [
        ""
      ],
      "execution_count": 0,
      "outputs": []
    }
  ]
}