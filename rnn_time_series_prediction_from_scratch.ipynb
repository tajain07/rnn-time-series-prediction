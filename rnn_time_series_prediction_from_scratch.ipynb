{
  "nbformat": 4,
  "nbformat_minor": 0,
  "metadata": {
    "colab": {
      "name": "[RNN] Time-series prediction from scratch.ipynb",
      "version": "0.3.2",
      "provenance": [],
      "collapsed_sections": [],
      "include_colab_link": true
    },
    "kernelspec": {
      "name": "python2",
      "display_name": "Python 2"
    }
  },
  "cells": [
    {
      "cell_type": "markdown",
      "metadata": {
        "id": "view-in-github",
        "colab_type": "text"
      },
      "source": [
        "<a href=\"https://colab.research.google.com/github/tajain07/neural-network-playground/blob/master/%5BRNN%5D_Time_series_prediction_from_scratch.ipynb\" target=\"_parent\"><img src=\"https://colab.research.google.com/assets/colab-badge.svg\" alt=\"Open In Colab\"/></a>"
      ]
    },
    {
      "metadata": {
        "id": "Hc95sbPPWiJk",
        "colab_type": "text"
      },
      "cell_type": "markdown",
      "source": [
        "Source Blog : https://www.cpuheater.com/deep-learning/introduction-to-recurrent-neural-networks-in-pytorch/\n"
      ]
    },
    {
      "metadata": {
        "id": "BpCEowi3PQFV",
        "colab_type": "code",
        "colab": {
          "base_uri": "https://localhost:8080/",
          "height": 54
        },
        "outputId": "e4bc108b-4d72-427b-8ee1-d4ca2f786c55"
      },
      "cell_type": "code",
      "source": [
        "'''\n",
        "# http://pytorch.org/\n",
        "from os.path import exists\n",
        "from wheel.pep425tags import get_abbr_impl, get_impl_ver, get_abi_tag\n",
        "platform = '{}{}-{}'.format(get_abbr_impl(), get_impl_ver(), get_abi_tag())\n",
        "cuda_output = !ldconfig -p|grep cudart.so|sed -e 's/.*\\.\\([0-9]*\\)\\.\\([0-9]*\\)$/cu\\1\\2/'\n",
        "accelerator = cuda_output[0] if exists('/dev/nvidia0') else 'cpu'\n",
        "\n",
        "!pip install -q http://download.pytorch.org/whl/{accelerator}/torch-0.4.1-{platform}-linux_x86_64.whl torchvision\n",
        "import torch\n",
        "'''"
      ],
      "execution_count": 1,
      "outputs": [
        {
          "output_type": "execute_result",
          "data": {
            "text/plain": [
              "\"\\n# http://pytorch.org/\\nfrom os.path import exists\\nfrom wheel.pep425tags import get_abbr_impl, get_impl_ver, get_abi_tag\\nplatform = '{}{}-{}'.format(get_abbr_impl(), get_impl_ver(), get_abi_tag())\\ncuda_output = !ldconfig -p|grep cudart.so|sed -e 's/.*\\\\.\\\\([0-9]*\\\\)\\\\.\\\\([0-9]*\\\\)$/cu\\x01\\x02/'\\naccelerator = cuda_output[0] if exists('/dev/nvidia0') else 'cpu'\\n\\n!pip install -q http://download.pytorch.org/whl/{accelerator}/torch-0.4.1-{platform}-linux_x86_64.whl torchvision\\nimport torch\\n\""
            ]
          },
          "metadata": {
            "tags": []
          },
          "execution_count": 1
        }
      ]
    },
    {
      "metadata": {
        "id": "4eVCnpzxPDMY",
        "colab_type": "code",
        "colab": {}
      },
      "cell_type": "code",
      "source": [
        "import torch\n",
        "from torch.autograd import Variable\n",
        "import numpy as np\n",
        "import pylab as pl\n",
        "import torch.nn.init as init"
      ],
      "execution_count": 0,
      "outputs": []
    },
    {
      "metadata": {
        "id": "RS7qalNOPKwG",
        "colab_type": "code",
        "outputId": "27476767-d319-4f0b-e476-6463e81acc59",
        "colab": {
          "base_uri": "https://localhost:8080/",
          "height": 34
        }
      },
      "cell_type": "code",
      "source": [
        "torch.manual_seed(1)"
      ],
      "execution_count": 3,
      "outputs": [
        {
          "output_type": "execute_result",
          "data": {
            "text/plain": [
              "<torch._C.Generator at 0x7fc3bc95cab0>"
            ]
          },
          "metadata": {
            "tags": []
          },
          "execution_count": 3
        }
      ]
    },
    {
      "metadata": {
        "id": "xJCT-k5IPNYP",
        "colab_type": "code",
        "colab": {}
      },
      "cell_type": "code",
      "source": [
        "dtype = torch.FloatTensor\n",
        "input_size = 7  # 1 input neuron + 6 context neuron = 7\n",
        "hidden_size = 6 \n",
        "output_size = 1\n",
        "epochs = 200\n",
        "seq_length = 20\n",
        "lr = 0.1"
      ],
      "execution_count": 0,
      "outputs": []
    },
    {
      "metadata": {
        "id": "u3h46brsPkTr",
        "colab_type": "code",
        "colab": {}
      },
      "cell_type": "code",
      "source": [
        "data_time_steps = np.linspace(2, 10, seq_length + 1)\n",
        "data = np.sin(data_time_steps)\n",
        "data.resize((seq_length + 1, 1))"
      ],
      "execution_count": 0,
      "outputs": []
    },
    {
      "metadata": {
        "id": "QwZfFs_kPs8C",
        "colab_type": "code",
        "colab": {}
      },
      "cell_type": "code",
      "source": [
        "x = Variable(torch.Tensor(data[:-1]).type(dtype), requires_grad=False)\n",
        "y = Variable(torch.Tensor(data[1:]).type(dtype), requires_grad=False)"
      ],
      "execution_count": 0,
      "outputs": []
    },
    {
      "metadata": {
        "id": "5zVcVMxZ4x1-",
        "colab_type": "code",
        "colab": {
          "base_uri": "https://localhost:8080/",
          "height": 391
        },
        "outputId": "01c5d226-fe02-41ce-84e1-baaa32c735f4"
      },
      "cell_type": "code",
      "source": [
        "print(data_time_steps[:-1])\n",
        "print(x)"
      ],
      "execution_count": 7,
      "outputs": [
        {
          "output_type": "stream",
          "text": [
            "[2.  2.4 2.8 3.2 3.6 4.  4.4 4.8 5.2 5.6 6.  6.4 6.8 7.2 7.6 8.  8.4 8.8\n",
            " 9.2 9.6]\n",
            "tensor([[ 0.9093],\n",
            "        [ 0.6755],\n",
            "        [ 0.3350],\n",
            "        [-0.0584],\n",
            "        [-0.4425],\n",
            "        [-0.7568],\n",
            "        [-0.9516],\n",
            "        [-0.9962],\n",
            "        [-0.8835],\n",
            "        [-0.6313],\n",
            "        [-0.2794],\n",
            "        [ 0.1165],\n",
            "        [ 0.4941],\n",
            "        [ 0.7937],\n",
            "        [ 0.9679],\n",
            "        [ 0.9894],\n",
            "        [ 0.8546],\n",
            "        [ 0.5849],\n",
            "        [ 0.2229],\n",
            "        [-0.1743]])\n"
          ],
          "name": "stdout"
        }
      ]
    },
    {
      "metadata": {
        "id": "QoB7-y__OANT",
        "colab_type": "code",
        "outputId": "267d73a2-81d9-435e-f38c-fb0cfef3c097",
        "colab": {
          "base_uri": "https://localhost:8080/",
          "height": 347
        }
      },
      "cell_type": "code",
      "source": [
        "pl.scatter(data_time_steps[:-1], x, s=100, label='X')\n",
        "pl.scatter(data_time_steps[1:], y+0.005, label=\"Y\")\n",
        "pl.legend()\n",
        "pl.show()"
      ],
      "execution_count": 8,
      "outputs": [
        {
          "output_type": "display_data",
          "data": {
            "image/png": "[encoded data removed]",
            "text/plain": [
              "<Figure size 576x396 with 1 Axes>"
            ]
          },
          "metadata": {
            "tags": []
          }
        }
      ]
    },
    {
      "metadata": {
        "id": "a3ctzcayQAbO",
        "colab_type": "code",
        "outputId": "48453a6d-4529-4d78-b3ea-2b4aeed8545c",
        "colab": {
          "base_uri": "https://localhost:8080/",
          "height": 255
        }
      },
      "cell_type": "code",
      "source": [
        "w1 = torch.FloatTensor(input_size, hidden_size).type(dtype)\n",
        "init.normal_(w1, 0.0, 0.4)\n",
        "w1 = Variable(w1, requires_grad=True)\n",
        "\n",
        "w2 = torch.FloatTensor(hidden_size, output_size).type(dtype)\n",
        "init.normal_(w2, 0.0, 0.3)\n",
        "w2 = Variable(w2, requires_grad=True)\n",
        "\n",
        "print(\"w1 = \",w1)\n",
        "print(\"w2 = \", w2)"
      ],
      "execution_count": 9,
      "outputs": [
        {
          "output_type": "stream",
          "text": [
            "('w1 = ', tensor([[-0.6102, -0.3001, -0.2616, -0.6438, -0.0401, -0.2437],\n",
            "        [-0.3919, -0.6436, -0.2849,  0.1215, -0.3109, -0.1006],\n",
            "        [-0.0889,  0.6748,  0.0914,  0.1871, -0.2788, -0.4643],\n",
            "        [ 0.2798,  0.0796,  0.3463,  0.0978, -0.2652,  0.3229],\n",
            "        [ 0.4407, -0.0704,  0.8097, -0.0346,  0.0392, -0.4860],\n",
            "        [ 0.2925,  0.4687, -0.3710,  0.2181,  0.0987,  0.4737],\n",
            "        [-0.2913,  0.4653, -0.0036, -0.3370,  0.0550,  0.3755]],\n",
            "       requires_grad=True))\n",
            "('w2 = ', tensor([[-0.2854],\n",
            "        [ 0.1217],\n",
            "        [-0.4549],\n",
            "        [ 0.2197],\n",
            "        [ 0.6846],\n",
            "        [-0.3624]], requires_grad=True))\n"
          ],
          "name": "stdout"
        }
      ]
    },
    {
      "metadata": {
        "id": "cnYd_3egQCTL",
        "colab_type": "code",
        "colab": {}
      },
      "cell_type": "code",
      "source": [
        "def forward(input, context_state, w1, w2):\n",
        "  xh = torch.cat((input, context_state), 1)\n",
        "  context_state = torch.tanh(xh.mm(w1))\n",
        "  out = context_state.mm(w2)\n",
        "  return (out, context_state)"
      ],
      "execution_count": 0,
      "outputs": []
    },
    {
      "metadata": {
        "id": "bpEuzi9aQOgF",
        "colab_type": "code",
        "outputId": "fe95b0af-227f-412c-cdb6-6cdc5f30acb5",
        "colab": {
          "base_uri": "https://localhost:8080/",
          "height": 394
        }
      },
      "cell_type": "code",
      "source": [
        "for i in range(epochs):\n",
        "  total_loss = 0\n",
        "  context_state = Variable(torch.zeros((1, hidden_size)).type(dtype), requires_grad=True)\n",
        "  for j in range(x.size(0)):\n",
        "    input = x[j:(j+1)]\n",
        "    target = y[j:(j+1)]\n",
        "    (pred, context_state) = forward(input, context_state, w1, w2)\n",
        "    loss = (pred-target).pow(2).sum()/2\n",
        "    total_loss += loss\n",
        "    loss.backward()\n",
        "    w1.data -= lr * w1.grad.data\n",
        "    w2.data -= lr * w2.grad.data\n",
        "    w1.grad.data.zero_()\n",
        "    w2.grad.data.zero_()\n",
        "    context_state = Variable(context_state.data)\n",
        "  if i %10 == 0:\n",
        "    print(\"Epoch: {} loss {}\".format(i, total_loss.data[0]))"
      ],
      "execution_count": 11,
      "outputs": [
        {
          "output_type": "stream",
          "text": [
            "Epoch: 0 loss 2.01560902596\n",
            "Epoch: 10 loss 0.302462786436\n",
            "Epoch: 20 loss 0.26835167408\n",
            "Epoch: 30 loss 0.244405820966\n"
          ],
          "name": "stdout"
        },
        {
          "output_type": "stream",
          "text": [
            "/usr/local/lib/python2.7/dist-packages/ipykernel_launcher.py:17: UserWarning: invalid index of a 0-dim tensor. This will be an error in PyTorch 0.5. Use tensor.item() to convert a 0-dim tensor to a Python number\n"
          ],
          "name": "stderr"
        },
        {
          "output_type": "stream",
          "text": [
            "Epoch: 40 loss 0.226059347391\n",
            "Epoch: 50 loss 0.214263275266\n",
            "Epoch: 60 loss 0.207835152745\n",
            "Epoch: 70 loss 0.205058589578\n",
            "Epoch: 80 loss 0.204210236669\n",
            "Epoch: 90 loss 0.203712746501\n",
            "Epoch: 100 loss 0.202297106385\n",
            "Epoch: 110 loss 0.199189648032\n",
            "Epoch: 120 loss 0.194155678153\n",
            "Epoch: 130 loss 0.187336370349\n",
            "Epoch: 140 loss 0.178971916437\n",
            "Epoch: 150 loss 0.169212684035\n",
            "Epoch: 160 loss 0.158102855086\n",
            "Epoch: 170 loss 0.14571775496\n",
            "Epoch: 180 loss 0.132335528731\n",
            "Epoch: 190 loss 0.118550166488\n"
          ],
          "name": "stdout"
        }
      ]
    },
    {
      "metadata": {
        "id": "yKkEsI-rRzfj",
        "colab_type": "code",
        "outputId": "4d6bc423-fb80-4dfa-f9eb-74f052b7fa4e",
        "colab": {
          "base_uri": "https://localhost:8080/",
          "height": 255
        }
      },
      "cell_type": "code",
      "source": [
        "print(\"w1 \", w1)\n",
        "print(\"w2 \", w2)"
      ],
      "execution_count": 12,
      "outputs": [
        {
          "output_type": "stream",
          "text": [
            "('w1 ', tensor([[-1.2814, -0.4412, -0.0623, -0.5340,  0.0286, -0.6857],\n",
            "        [-0.6668, -0.5734, -0.4448,  0.1142, -0.8675, -0.0674],\n",
            "        [-0.1344,  0.7461,  0.3231,  0.1892, -0.6126, -0.3398],\n",
            "        [-0.3983, -0.1492, -0.1011,  0.0783,  0.5858,  0.0955],\n",
            "        [-0.3963, -0.3975,  0.4122, -0.0718,  0.9044, -0.7418],\n",
            "        [ 0.2346,  0.2695, -0.4613,  0.1976,  0.6402,  0.2848],\n",
            "        [-0.5404,  0.3998, -0.0754, -0.3371, -0.0195,  0.2964]],\n",
            "       requires_grad=True))\n",
            "('w2 ', tensor([[-0.7706],\n",
            "        [-0.0554],\n",
            "        [-0.1198],\n",
            "        [ 0.1118],\n",
            "        [ 1.3648],\n",
            "        [-0.4085]], requires_grad=True))\n"
          ],
          "name": "stdout"
        }
      ]
    },
    {
      "metadata": {
        "id": "xXQy71XVSay1",
        "colab_type": "code",
        "colab": {}
      },
      "cell_type": "code",
      "source": [
        "context_state = Variable(torch.zeros((1, hidden_size)).type(dtype), requires_grad=False)\n",
        "predictions = []"
      ],
      "execution_count": 0,
      "outputs": []
    },
    {
      "metadata": {
        "id": "WZifh-nrSQe_",
        "colab_type": "code",
        "outputId": "b391dd5a-8ae5-48c8-e472-07d919353d18",
        "colab": {
          "base_uri": "https://localhost:8080/",
          "height": 347
        }
      },
      "cell_type": "code",
      "source": [
        "for i in range(x.size(0)):\n",
        "  input = x[i:i+1]\n",
        "  (pred, context_state) = forward(input, context_state, w1, w2)\n",
        "  context_state = context_state\n",
        "  predictions.append(pred.data.numpy().ravel()[0])\n",
        "\n",
        "\n",
        "pl.scatter(data_time_steps[:-1], x.data.numpy(), s=90, label=\"Actual\")\n",
        "pl.scatter(data_time_steps[1:], predictions, label=\"Predicted\")\n",
        "pl.legend()\n",
        "pl.show()"
      ],
      "execution_count": 14,
      "outputs": [
        {
          "output_type": "display_data",
          "data": {
            "image/png": "[encoded data removed]",
            "text/plain": [
              "<Figure size 576x396 with 1 Axes>"
            ]
          },
          "metadata": {
            "tags": []
          }
        }
      ]
    }
  ]
}